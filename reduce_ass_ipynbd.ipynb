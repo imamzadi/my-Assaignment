{
  "nbformat": 4,
  "nbformat_minor": 0,
  "metadata": {
    "colab": {
      "provenance": []
    },
    "kernelspec": {
      "name": "python3",
      "display_name": "Python 3"
    },
    "language_info": {
      "name": "python"
    }
  },
  "cells": [
    {
      "cell_type": "markdown",
      "source": [
        "The reduce function in Python is used to apply a binary function (a function that takes two arguments) cumulatively to the items of an iterable, from left to right, reducing the iterable to a single value"
      ],
      "metadata": {
        "id": "Yy5PLudl2L3Z"
      }
    },
    {
      "cell_type": "markdown",
      "source": [
        "The reduce function in Python is a part of the functools module, and it is used to apply a given function cumul"
      ],
      "metadata": {
        "id": "5P1x-2gM2neY"
      }
    },
    {
      "cell_type": "code",
      "execution_count": 12,
      "metadata": {
        "colab": {
          "base_uri": "https://localhost:8080/"
        },
        "id": "JCNfmr0myXSN",
        "outputId": "d9f8153d-7e5c-4157-c6bb-e120d340a401"
      },
      "outputs": [
        {
          "output_type": "stream",
          "name": "stdout",
          "text": [
            "result of the sum>> 24\n"
          ]
        }
      ],
      "source": [
        "from functools import reduce\n",
        "\n",
        "numbers = [3,4,5,5,3,4]\n",
        "def myadd(num1,num2):\n",
        "      return num1 + num2\n",
        "sum = reduce(myadd,numbers)\n",
        "print(f\"result of the sum>>\",sum)"
      ]
    },
    {
      "cell_type": "code",
      "source": [
        "from functools import reduce\n",
        "\n",
        "def concat_strings(x, y):\n",
        "    return x + y\n",
        "\n",
        "words = [\"Hello\", \" \", \"world\", \"!\", \" How\", \" are\", \" you? \" ,\"\", \"hi\"]\n",
        "result = reduce(concat_strings, words)\n",
        "print(result)"
      ],
      "metadata": {
        "colab": {
          "base_uri": "https://localhost:8080/"
        },
        "id": "7yaDRc6EylXR",
        "outputId": "e172370d-fc2e-4de0-e166-2fc6b933852c"
      },
      "execution_count": 2,
      "outputs": [
        {
          "output_type": "stream",
          "name": "stdout",
          "text": [
            "Hello world! How are you? hi\n"
          ]
        }
      ]
    },
    {
      "cell_type": "code",
      "source": [
        "from functools import reduce\n",
        "\n",
        "list = [1,2,3,4,5,8,9,10]\n",
        "def mul(num1,num2):\n",
        "      return num1 * num2\n",
        "sq = reduce(mul,list)\n",
        "print(f\"result of the reduce>>\",sq)"
      ],
      "metadata": {
        "colab": {
          "base_uri": "https://localhost:8080/"
        },
        "id": "G2rlLdJTymlC",
        "outputId": "12aa73af-be6f-4158-e949-43c953da5971"
      },
      "execution_count": 11,
      "outputs": [
        {
          "output_type": "stream",
          "name": "stdout",
          "text": [
            "result of the reduce>> 86400\n"
          ]
        }
      ]
    }
  ]
}