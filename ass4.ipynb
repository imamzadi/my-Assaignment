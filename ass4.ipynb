{
  "nbformat": 4,
  "nbformat_minor": 0,
  "metadata": {
    "colab": {
      "provenance": []
    },
    "kernelspec": {
      "name": "python3",
      "display_name": "Python 3"
    },
    "language_info": {
      "name": "python"
    }
  },
  "cells": [
    {
      "cell_type": "markdown",
      "source": [
        "Topic: Error Handling **9th Class assaignment**\n",
        "Make the Assaignment by Error Handling with **try/except **\n"
      ],
      "metadata": {
        "id": "L0n6-C1XLvF5"
      }
    },
    {
      "cell_type": "code",
      "source": [
        "# Simple print any integer number:\n",
        "n=int(input(\"Enter your Number\"))\n",
        "print(n)"
      ],
      "metadata": {
        "colab": {
          "base_uri": "https://localhost:8080/"
        },
        "id": "FOpqS5mtOU_E",
        "outputId": "d92e202b-e436-4801-dc8e-a1f1102132b7"
      },
      "execution_count": 1,
      "outputs": [
        {
          "output_type": "stream",
          "name": "stdout",
          "text": [
            "Enter your Number2\n",
            "2\n"
          ]
        }
      ]
    },
    {
      "cell_type": "code",
      "source": [
        "# Make the Table by input Integer dataType:\n",
        "n=int(input(\"Enter your Number: \"))\n",
        "for i in range(1,11 ):\n",
        "  print(f\"{n}x{i}={n*i}\")\n"
      ],
      "metadata": {
        "colab": {
          "base_uri": "https://localhost:8080/"
        },
        "id": "x1AB01rcO2VP",
        "outputId": "af791aa6-bd49-42d3-ae87-1cfea4f4235e"
      },
      "execution_count": 3,
      "outputs": [
        {
          "output_type": "stream",
          "name": "stdout",
          "text": [
            "Enter your Number: 2\n",
            "2x1=2\n",
            "2x2=4\n",
            "2x3=6\n",
            "2x4=8\n",
            "2x5=10\n",
            "2x6=12\n",
            "2x7=14\n",
            "2x8=16\n",
            "2x9=18\n",
            "2x10=20\n"
          ]
        }
      ]
    },
    {
      "cell_type": "code",
      "source": [
        "# Make the Table by not Integer dataType:\n",
        "n=int(input(\"Enter your Number: \"))\n",
        "for i in range(1,11 ):\n",
        "  print(f\"{n}x{i}={n*i}\")"
      ],
      "metadata": {
        "colab": {
          "base_uri": "https://localhost:8080/",
          "height": 211
        },
        "id": "LHbariLMPgsM",
        "outputId": "f99c4fe6-ac2f-43f1-99ad-332bfebcb923"
      },
      "execution_count": 4,
      "outputs": [
        {
          "name": "stdout",
          "output_type": "stream",
          "text": [
            "Enter your Number: eman\n"
          ]
        },
        {
          "output_type": "error",
          "ename": "ValueError",
          "evalue": "invalid literal for int() with base 10: 'eman'",
          "traceback": [
            "\u001b[0;31m---------------------------------------------------------------------------\u001b[0m",
            "\u001b[0;31mValueError\u001b[0m                                Traceback (most recent call last)",
            "\u001b[0;32m<ipython-input-4-bdba9c3ab5e5>\u001b[0m in \u001b[0;36m<cell line: 0>\u001b[0;34m()\u001b[0m\n\u001b[1;32m      1\u001b[0m \u001b[0;31m# Make the Table by not Integer Type:\u001b[0m\u001b[0;34m\u001b[0m\u001b[0;34m\u001b[0m\u001b[0m\n\u001b[0;32m----> 2\u001b[0;31m \u001b[0mn\u001b[0m\u001b[0;34m=\u001b[0m\u001b[0mint\u001b[0m\u001b[0;34m(\u001b[0m\u001b[0minput\u001b[0m\u001b[0;34m(\u001b[0m\u001b[0;34m\"Enter your Number: \"\u001b[0m\u001b[0;34m)\u001b[0m\u001b[0;34m)\u001b[0m\u001b[0;34m\u001b[0m\u001b[0;34m\u001b[0m\u001b[0m\n\u001b[0m\u001b[1;32m      3\u001b[0m \u001b[0;32mfor\u001b[0m \u001b[0mi\u001b[0m \u001b[0;32min\u001b[0m \u001b[0mrange\u001b[0m\u001b[0;34m(\u001b[0m\u001b[0;36m1\u001b[0m\u001b[0;34m,\u001b[0m\u001b[0;36m11\u001b[0m \u001b[0;34m)\u001b[0m\u001b[0;34m:\u001b[0m\u001b[0;34m\u001b[0m\u001b[0;34m\u001b[0m\u001b[0m\n\u001b[1;32m      4\u001b[0m   \u001b[0mprint\u001b[0m\u001b[0;34m(\u001b[0m\u001b[0;34mf\"{n}x{i}={n*i}\"\u001b[0m\u001b[0;34m)\u001b[0m\u001b[0;34m\u001b[0m\u001b[0;34m\u001b[0m\u001b[0m\n",
            "\u001b[0;31mValueError\u001b[0m: invalid literal for int() with base 10: 'eman'"
          ]
        }
      ]
    },
    {
      "cell_type": "code",
      "source": [
        "# Catch the Error with try / except:\n",
        "try:\n",
        "  n=int(input(\"Enter your Number: \"))\n",
        "  print(f\"You Entered: {n}\\n\")\n",
        "  for i in range(1,11 ):\n",
        "    print(f\"{n}x{i}={n*i}\")\n",
        "except ValueError:\n",
        "  print(\"Invalid Input! Please Enter a Valid Number.\")\n"
      ],
      "metadata": {
        "colab": {
          "base_uri": "https://localhost:8080/"
        },
        "id": "Y_Aa-cNFR_Ot",
        "outputId": "46e47ad2-1aae-4f46-c0e1-5cb4b4949b0d"
      },
      "execution_count": 6,
      "outputs": [
        {
          "output_type": "stream",
          "name": "stdout",
          "text": [
            "Enter your Number: 3\n",
            "You Entered: 3\n",
            "\n",
            "3x1=3\n",
            "3x2=6\n",
            "3x3=9\n",
            "3x4=12\n",
            "3x5=15\n",
            "3x6=18\n",
            "3x7=21\n",
            "3x8=24\n",
            "3x9=27\n",
            "3x10=30\n"
          ]
        }
      ]
    },
    {
      "cell_type": "code",
      "source": [
        "# Any Multiplication Table by type any integer Number:\n",
        "try:\n",
        "    num = int(input(\"Enter a Number: \"))\n",
        "    print(f\"You Entered: {num}\\n\")\n",
        "\n",
        "    print(f\"Multiplication Table of {num}:\\n\")\n",
        "    for i in range(1, 50):\n",
        "        print(f\"{num} x {i} = {num * i}\")\n",
        "\n",
        "except ValueError:\n",
        "    print(\"Invalid Input! Please Enter a Valid Number.\")"
      ],
      "metadata": {
        "colab": {
          "base_uri": "https://localhost:8080/"
        },
        "id": "GDUXItiTRLse",
        "outputId": "059d48f2-9f2a-4738-de53-b5b7c09d95f8"
      },
      "execution_count": 9,
      "outputs": [
        {
          "output_type": "stream",
          "name": "stdout",
          "text": [
            "Enter a Number: 44\n",
            "You Entered: 44\n",
            "\n",
            "Multiplication Table of 44:\n",
            "\n",
            "44 x 1 = 44\n",
            "44 x 2 = 88\n",
            "44 x 3 = 132\n",
            "44 x 4 = 176\n",
            "44 x 5 = 220\n",
            "44 x 6 = 264\n",
            "44 x 7 = 308\n",
            "44 x 8 = 352\n",
            "44 x 9 = 396\n",
            "44 x 10 = 440\n",
            "44 x 11 = 484\n",
            "44 x 12 = 528\n",
            "44 x 13 = 572\n",
            "44 x 14 = 616\n",
            "44 x 15 = 660\n",
            "44 x 16 = 704\n",
            "44 x 17 = 748\n",
            "44 x 18 = 792\n",
            "44 x 19 = 836\n",
            "44 x 20 = 880\n",
            "44 x 21 = 924\n",
            "44 x 22 = 968\n",
            "44 x 23 = 1012\n",
            "44 x 24 = 1056\n",
            "44 x 25 = 1100\n",
            "44 x 26 = 1144\n",
            "44 x 27 = 1188\n",
            "44 x 28 = 1232\n",
            "44 x 29 = 1276\n",
            "44 x 30 = 1320\n",
            "44 x 31 = 1364\n",
            "44 x 32 = 1408\n",
            "44 x 33 = 1452\n",
            "44 x 34 = 1496\n",
            "44 x 35 = 1540\n",
            "44 x 36 = 1584\n",
            "44 x 37 = 1628\n",
            "44 x 38 = 1672\n",
            "44 x 39 = 1716\n",
            "44 x 40 = 1760\n",
            "44 x 41 = 1804\n",
            "44 x 42 = 1848\n",
            "44 x 43 = 1892\n",
            "44 x 44 = 1936\n",
            "44 x 45 = 1980\n",
            "44 x 46 = 2024\n",
            "44 x 47 = 2068\n",
            "44 x 48 = 2112\n",
            "44 x 49 = 2156\n"
          ]
        }
      ]
    },
    {
      "cell_type": "code",
      "source": [
        "#  Error Handling except Exception as e:\n",
        "x = (input(\"Enter your Number: \"))\n",
        "print(f\"Multiplication Table of {x} is: \")\n",
        "try:\n",
        "    for i in range(1, 11):\n",
        "        print(f\"{int(x)} x {i} = {int(x) * i}\")\n",
        "except Exception as e:\n",
        "    print(e)\n",
        "print(\"End of programe\")"
      ],
      "metadata": {
        "colab": {
          "base_uri": "https://localhost:8080/"
        },
        "id": "8W237jjUU4P9",
        "outputId": "c89290db-bc10-4208-9744-2f6ce15519c3"
      },
      "execution_count": 10,
      "outputs": [
        {
          "output_type": "stream",
          "name": "stdout",
          "text": [
            "Enter your Number: 5\n",
            "Multiplication Table of 5 is: \n",
            "5 x 1 = 5\n",
            "5 x 2 = 10\n",
            "5 x 3 = 15\n",
            "5 x 4 = 20\n",
            "5 x 5 = 25\n",
            "5 x 6 = 30\n",
            "5 x 7 = 35\n",
            "5 x 8 = 40\n",
            "5 x 9 = 45\n",
            "5 x 10 = 50\n",
            "End of programe\n"
          ]
        }
      ]
    },
    {
      "cell_type": "code",
      "source": [
        "#  Error Handling except Exception as e (Find the Error)\n",
        "x = (input(\"Enter your Number: \"))\n",
        "print(f\"Multiplication Table of {x} is: \")\n",
        "try:\n",
        "    for i in range(1, 11):\n",
        "        print(f\"{int(x)} x {i} = {int(x) * i}\")\n",
        "except Exception as e: # instead of e we can use Error\n",
        "    print(e)\n",
        "print(\"End of programe\")"
      ],
      "metadata": {
        "colab": {
          "base_uri": "https://localhost:8080/"
        },
        "id": "dcWy8GaNVmGB",
        "outputId": "71a18a5c-a055-4245-824d-cce1d71e100f"
      },
      "execution_count": 11,
      "outputs": [
        {
          "output_type": "stream",
          "name": "stdout",
          "text": [
            "Enter your Number: eman\n",
            "Multiplication Table of eman is: \n",
            "invalid literal for int() with base 10: 'eman'\n",
            "End of programe\n"
          ]
        }
      ]
    }
  ]
}
