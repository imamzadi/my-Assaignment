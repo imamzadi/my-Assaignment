{
  "nbformat": 4,
  "nbformat_minor": 0,
  "metadata": {
    "colab": {
      "provenance": []
    },
    "kernelspec": {
      "name": "python3",
      "display_name": "Python 3"
    },
    "language_info": {
      "name": "python"
    }
  },
  "cells": [
    {
      "cell_type": "markdown",
      "source": [
        "# assaignment no2\n",
        "# if/elif/else conditional oprators\n",
        "# make a result Grade sheet with conditional oprators\n"
      ],
      "metadata": {
        "id": "gDDg_sGftUHo"
      }
    },
    {
      "cell_type": "code",
      "source": [
        "# no.1 method >=\n",
        "\n",
        "marks=int(input(\"Enter your Number(o to 100)\"))\n",
        "if marks>=80:\n",
        "      print(\"Grade A+1: \")\n",
        "elif marks>=70:\n",
        "      print(\"Grade A: \")\n",
        "elif marks>=60:\n",
        "      print(\"Grade B: \")\n",
        "elif marks>=50:\n",
        "      print(\"Grade C: \")\n",
        "elif marks>=40:\n",
        "      print(\"Grade D: \")\n",
        "elif marks>=33:\n",
        "      print(\"Traqqi pass\")\n",
        "else:\n",
        "      print(\"Fail\")"
      ],
      "metadata": {
        "colab": {
          "base_uri": "https://localhost:8080/"
        },
        "id": "CFhpQ1rctmrJ",
        "outputId": "e17407cd-0007-4619-8187-eb5a08908a45"
      },
      "execution_count": null,
      "outputs": [
        {
          "output_type": "stream",
          "name": "stdout",
          "text": [
            "Enter your Number(o to 100)50\n",
            "Grade C: \n"
          ]
        }
      ]
    },
    {
      "cell_type": "code",
      "source": [
        "# no.2 method ==\n",
        "\n",
        "marks=int(input(\"Enter your Number(o to 100)\"))\n",
        "if marks==80:\n",
        "      print(\"Grade A+1: \")\n",
        "elif marks==70:\n",
        "      print(\"Grade A: \")\n",
        "elif marks==60:\n",
        "      print(\"Grade B: \")\n",
        "elif marks==50:\n",
        "      print(\"Grade C: \")\n",
        "elif marks==40:\n",
        "      print(\"Grade D: \")\n",
        "elif marks==33:\n",
        "      print(\"Traqqi pass\")\n",
        "else:\n",
        "      print(\"Fail\")"
      ],
      "metadata": {
        "colab": {
          "base_uri": "https://localhost:8080/"
        },
        "id": "mdnO_zQdtxv1",
        "outputId": "4ed43937-170b-40ef-ac10-046d61a76a23"
      },
      "execution_count": null,
      "outputs": [
        {
          "output_type": "stream",
          "name": "stdout",
          "text": [
            "Enter your Number(o to 100)30\n",
            "Fail\n"
          ]
        }
      ]
    },
    {
      "cell_type": "code",
      "source": [
        "#no.3 method >= with grade & f string:\n",
        "\n",
        "marks = int(input(\"Enter your number: \"))\n",
        "\n",
        "if marks >= 90:\n",
        "    grade = \"A\"\n",
        "elif marks >= 80:\n",
        "    grade = \"B\"\n",
        "elif marks >= 70:\n",
        "    grade = \"C\"\n",
        "elif marks >= 60:\n",
        "    grade = \"D\"\n",
        "else:\n",
        "    grade = \"Fail\"\n",
        "\n",
        "print(f\"Student: marks {marks} Grade {grade}\")"
      ],
      "metadata": {
        "id": "SYXdyREh0VE3",
        "colab": {
          "base_uri": "https://localhost:8080/"
        },
        "outputId": "28d0abcb-51fb-4843-a6b1-5374813a2af0"
      },
      "execution_count": 1,
      "outputs": [
        {
          "output_type": "stream",
          "name": "stdout",
          "text": [
            "Enter your number: 50\n",
            "Student: marks 50 Grade Fail\n"
          ]
        }
      ]
    },
    {
      "cell_type": "code",
      "source": [
        "# no.4 method\n",
        "# with Nested if &\n",
        "# Marks with Remarks\n",
        "\n",
        "# with f string:\n",
        "\n",
        "marks=int(input(\"Enter your Number(o to 100)\"))\n",
        "if marks>=80:\n",
        "      print(\"Marvelous\")\n",
        "      if marks!=80:\n",
        "            grade = \"A+1\"\n",
        "            remarks = \"Excellent\"\n",
        "      elif marks==70:\n",
        "            grade = \" A\"\n",
        "            remarks = \"Fair\"\n",
        "      elif marks>=60:\n",
        "            grade = \" B\"\n",
        "            remarks = \"Good\"\n",
        "      else:\n",
        "            remarks = \"not grade just percentage\"\n",
        "elif marks<=50:\n",
        "      grade = \" C\"\n",
        "      remarks = \"fair\"\n",
        "elif marks==40:\n",
        "      grade = \" D\"\n",
        "      remarks = \" Need Improvement\"\n",
        "elif marks==33:\n",
        "      grade = \"Taraqqi Pass\"\n",
        "      remarks = \"Poor\"\n",
        "else:\n",
        "      remarks = \"Fail\"\n",
        "      print(f\"Student: Marks {marks} Grade {grade} Remarks {remarks}\")"
      ],
      "metadata": {
        "colab": {
          "base_uri": "https://localhost:8080/"
        },
        "id": "rstJVqTrJ0KC",
        "outputId": "9ad4065b-30db-42c4-980d-13792afcf5f9"
      },
      "execution_count": 9,
      "outputs": [
        {
          "output_type": "stream",
          "name": "stdout",
          "text": [
            "Enter your Number(o to 100)58\n",
            "Student: Marks 58 Grade  C Remarks Fail\n"
          ]
        }
      ]
    },
    {
      "cell_type": "code",
      "source": [
        "# assaignment no.2\n",
        "# Tables by list of numbers:\n",
        "\n",
        "numbers:list[int]=[1,2,3,4,5,6,7,8,9,10]\n",
        "\n",
        "print('table of Two')\n",
        "for i in numbers:\n",
        "      print(f\"2x{i}={2*i}\")\n",
        "\n",
        "\n",
        "print('table of Three')\n",
        "for i in numbers:\n",
        "      print(f\"3x{i}={3*i}\")\n",
        "\n",
        "print('table of Four')\n",
        "for i in numbers:\n",
        "     print(f\"4x{i}={4*i}\")\n",
        "\n",
        "print('table of Five')\n",
        "for i in numbers:\n",
        "      print(f\"5x{i}={5*i}\")\n",
        "\n",
        "print('table of Six')\n",
        "for i in numbers:\n",
        "      print(f\"6x{i}={6*i}\")\n",
        "\n",
        "\n",
        "print('table of Seven')\n",
        "for i in numbers:\n",
        "      print(f\"7x{i}={7*i}\")\n",
        "\n",
        "\n",
        "print('table of Eight')\n",
        "for i in numbers:\n",
        "      print(f\"8x{i}={8*i}\")\n",
        "\n",
        "print('table of Nine')\n",
        "for i in numbers:\n",
        "      print(f\"9x{i}={9*i}\")\n",
        "\n",
        "print('table of Ten')\n",
        "for i in numbers:\n",
        "      print(f\"10x{i}={10*i}\")"
      ],
      "metadata": {
        "colab": {
          "base_uri": "https://localhost:8080/"
        },
        "id": "ZwXETLoANyri",
        "outputId": "a8768170-0735-41e2-8853-cb9ba41bed9a"
      },
      "execution_count": 11,
      "outputs": [
        {
          "output_type": "stream",
          "name": "stdout",
          "text": [
            "table of Two\n",
            "2x1=2\n",
            "2x2=4\n",
            "2x3=6\n",
            "2x4=8\n",
            "2x5=10\n",
            "2x6=12\n",
            "2x7=14\n",
            "2x8=16\n",
            "2x9=18\n",
            "2x10=20\n",
            "table of Three\n",
            "3x1=3\n",
            "3x2=6\n",
            "3x3=9\n",
            "3x4=12\n",
            "3x5=15\n",
            "3x6=18\n",
            "3x7=21\n",
            "3x8=24\n",
            "3x9=27\n",
            "3x10=30\n",
            "table of Four\n",
            "4x1=4\n",
            "4x2=8\n",
            "4x3=12\n",
            "4x4=16\n",
            "4x5=20\n",
            "4x6=24\n",
            "4x7=28\n",
            "4x8=32\n",
            "4x9=36\n",
            "4x10=40\n",
            "table of Five\n",
            "5x1=5\n",
            "5x2=10\n",
            "5x3=15\n",
            "5x4=20\n",
            "5x5=25\n",
            "5x6=30\n",
            "5x7=35\n",
            "5x8=40\n",
            "5x9=45\n",
            "5x10=50\n",
            "table of Six\n",
            "6x1=6\n",
            "6x2=12\n",
            "6x3=18\n",
            "6x4=24\n",
            "6x5=30\n",
            "6x6=36\n",
            "6x7=42\n",
            "6x8=48\n",
            "6x9=54\n",
            "6x10=60\n",
            "table of Seven\n",
            "7x1=7\n",
            "7x2=14\n",
            "7x3=21\n",
            "7x4=28\n",
            "7x5=35\n",
            "7x6=42\n",
            "7x7=49\n",
            "7x8=56\n",
            "7x9=63\n",
            "7x10=70\n",
            "table of Eight\n",
            "8x1=8\n",
            "8x2=16\n",
            "8x3=24\n",
            "8x4=32\n",
            "8x5=40\n",
            "8x6=48\n",
            "8x7=56\n",
            "8x8=64\n",
            "8x9=72\n",
            "8x10=80\n",
            "table of Nine\n",
            "9x1=9\n",
            "9x2=18\n",
            "9x3=27\n",
            "9x4=36\n",
            "9x5=45\n",
            "9x6=54\n",
            "9x7=63\n",
            "9x8=72\n",
            "9x9=81\n",
            "9x10=90\n",
            "table of Ten\n",
            "10x1=10\n",
            "10x2=20\n",
            "10x3=30\n",
            "10x4=40\n",
            "10x5=50\n",
            "10x6=60\n",
            "10x7=70\n",
            "10x8=80\n",
            "10x9=90\n",
            "10x10=100\n"
          ]
        }
      ]
    },
    {
      "cell_type": "code",
      "source": [
        "# tables with (for loop,(range)\n",
        "\n",
        "for i in range(1,11):\n",
        "      print(\"2x\",i,\"=\",2*i)\n",
        "\n",
        "# Result with F string:\n",
        "\n",
        "for i in range(1,11):\n",
        "     print(f\"3x{i}={3*i}\")"
      ],
      "metadata": {
        "colab": {
          "base_uri": "https://localhost:8080/"
        },
        "id": "0KRgYBJIOlSr",
        "outputId": "a8aecafc-ea42-497d-ce71-85aab01d28ec"
      },
      "execution_count": 12,
      "outputs": [
        {
          "output_type": "stream",
          "name": "stdout",
          "text": [
            "2x 1 = 2\n",
            "2x 2 = 4\n",
            "2x 3 = 6\n",
            "2x 4 = 8\n",
            "2x 5 = 10\n",
            "2x 6 = 12\n",
            "2x 7 = 14\n",
            "2x 8 = 16\n",
            "2x 9 = 18\n",
            "2x 10 = 20\n",
            "3x1=3\n",
            "3x2=6\n",
            "3x3=9\n",
            "3x4=12\n",
            "3x5=15\n",
            "3x6=18\n",
            "3x7=21\n",
            "3x8=24\n",
            "3x9=27\n",
            "3x10=30\n"
          ]
        }
      ]
    }
  ]
}