{
  "cells": [
    {
      "cell_type": "markdown",
      "source": [
        "# **# Assaignment NO.1 10th Class Work ko google Colab ki notebook main run Kerwana:**"
      ],
      "metadata": {
        "id": "8M3Rh7GvG6La"
      }
    },
    {
      "cell_type": "markdown",
      "metadata": {
        "id": "WcZzJ8PbrWYy"
      },
      "source": [
        "# TOPIC NO:1\n",
        "# GLOBAL & Local Variables"
      ]
    },
    {
      "cell_type": "markdown",
      "source": [
        "# **Global variable:\n",
        "# A global variable is a variable that is declared outside of any function or block and can be accessed and modified throughout the entire program. It has a global scope, meaning it can be used by any function or code block in the program.\n",
        "\n",
        "# Local variable:\n",
        "# A local variable is a variable that is declared inside a function or block. Its scope is limited to that particular function or block, meaning it can only be accessed and modified within that function or block**"
      ],
      "metadata": {
        "id": "r58bzsmVH6BO"
      }
    },
    {
      "cell_type": "code",
      "execution_count": null,
      "metadata": {
        "colab": {
          "base_uri": "https://localhost:8080/"
        },
        "id": "WRjTN5XdqJO0",
        "outputId": "b66c315e-1954-4a7a-9e6a-0bf302469d78"
      },
      "outputs": [
        {
          "name": "stdout",
          "output_type": "stream",
          "text": [
            "Num_x outside fuction one 70\n",
            "Num_x inside fuction one 70\n",
            "hi,My name is Eman\n",
            "Num_x outside fuction one 70\n",
            "result<<<<< 100\n"
          ]
        }
      ],
      "source": [
        "num_x = 70\n",
        "\n",
        "print(\"Num_x outside fuction one\", num_x)\n",
        "def hello():\n",
        "      global num_x\n",
        "      global result\n",
        "      result = 70 + 30\n",
        "      print(\"Num_x inside fuction one\",num_x )\n",
        "      print(\"hi,My name is Eman\")\n",
        "hello()\n",
        "print(\"Num_x outside fuction one\", num_x)\n",
        "\n",
        "print(\"result<<<<<\",result)"
      ]
    },
    {
      "cell_type": "markdown",
      "source": [
        "**DOC** **STRING** :\n",
        "# ** A docstring in Python is a special type of comment used to document functions, classes, or modules. It is enclosed in triple quotes (\"\"\" \"\"\" or ''' ''') and typically provides a description of what the function, class, or module does, its parameters, and its return value (if applicable). **"
      ],
      "metadata": {
        "id": "8xlaOCGLIONZ"
      }
    },
    {
      "cell_type": "code",
      "execution_count": null,
      "metadata": {
        "colab": {
          "background_save": true,
          "base_uri": "https://localhost:8080/"
        },
        "id": "RJoTbpJ7qykD",
        "outputId": "5297b861-c7d6-4556-e9a2-d1c2d445a8fc"
      },
      "outputs": [
        {
          "name": "stdout",
          "output_type": "stream",
          "text": [
            "takes two parameter and return their sum\n",
            "4\n"
          ]
        }
      ],
      "source": [
        "def addition(num1:int,num2:int)->int:\n",
        "      \"\"\"takes two parameter and return their sum\"\"\"\n",
        "      return num1 +num2\n",
        "result=addition(2,2)\n",
        "print(addition.__doc__)\n",
        "print(result)"
      ]
    },
    {
      "cell_type": "markdown",
      "source": [
        "TOPIC NO.3"
      ],
      "metadata": {
        "id": "rIfmTtNCZ_D9"
      }
    },
    {
      "cell_type": "markdown",
      "source": [
        "**SET** **MEHODS**\n",
        "\n",
        " **In Python, a set is an unordered collection of unique elements. There are several built-in methods available for sets that allow you to perform various operations**"
      ],
      "metadata": {
        "id": "z7iGTN7dIyzV"
      }
    },
    {
      "cell_type": "code",
      "source": [
        "try:\n",
        "  names_set={\"Aisha\",\"Hafsa\",\"Eman\",\"Eman\"}\n",
        "except:\n",
        "  print(\"names set\",names_set[1])"
      ],
      "metadata": {
        "id": "eFGxSTiOL_c1"
      },
      "execution_count": 3,
      "outputs": []
    },
    {
      "cell_type": "markdown",
      "source": [
        "# Type of Common SET METHODS :\n",
        "# YEH SIR NEY KERWAYE THEY"
      ],
      "metadata": {
        "id": "pFv0wO3lKiYe"
      }
    },
    {
      "cell_type": "markdown",
      "source": [
        "# 1.add\n",
        "# 2.remove\n",
        "# 3.discard\n",
        "# 4.pop\n",
        "# 5.union\n",
        "# 6.intersection\n"
      ],
      "metadata": {
        "id": "SMkMUhT4Knbn"
      }
    },
    {
      "cell_type": "markdown",
      "source": [
        "# Add Methods :\n",
        "The add() method in Python's set is used to add a single element to the set. If the element already exists in the set, it will not be added again, because sets do not allow duplicate values\n",
        "\n",
        "Since sets do not allow duplicate elements, if \"Saira\" was already in the set, it would not be added again. But in this case, \"Saira\" is added to the set"
      ],
      "metadata": {
        "id": "Q27EcGneK1s9"
      }
    },
    {
      "cell_type": "code",
      "source": [
        "# ADD METHOD BY STRING\n",
        "names_set={\"Aisha\",\"Hafsa\",\"Eman\",\"Eman\"}\n",
        "names_set.add(\"Saira\")\n",
        "print(names_set)\n",
        "\n",
        "# ADD METHOD BY INTEGER\n",
        "numbers_set={1,2,3,4,5}\n",
        "numbers_set.add(6)\n",
        "print(numbers_set)\n"
      ],
      "metadata": {
        "colab": {
          "base_uri": "https://localhost:8080/"
        },
        "id": "2P73KJ_2Ksfx",
        "outputId": "8deafe07-d430-4f0b-a7df-fd04285dbf44"
      },
      "execution_count": 4,
      "outputs": [
        {
          "output_type": "stream",
          "name": "stdout",
          "text": [
            "{'Saira', 'Eman', 'Hafsa', 'Aisha'}\n"
          ]
        }
      ]
    },
    {
      "cell_type": "markdown",
      "source": [
        "# Remove Method :\n",
        "The remove() method in Python's set is used to remove a specific element from the set. If the element is not found, it raises a KeyError\n",
        "If \"Maryum\" is not present in the set, this will raise a KeyError. To avoid this, you can either check if the element exists using an if statement or use the discard() method instead, which doesn't raise an error if the element is not found"
      ],
      "metadata": {
        "id": "BhAZmmhdLZWs"
      }
    },
    {
      "cell_type": "code",
      "source": [
        "# REMOVE METHOD BY STRING\n",
        "\n",
        "names_set={\"Aisha\",\"Hafsa\",\"Eman\",\"Eman\"}\n",
        "names_set.remove(\"Aisha\")\n",
        "print(names_set)\n",
        "\n",
        "\n",
        "names_set={\"Aisha\",\"Hafsa\",\"Eman\",\"Eman\"} # maryum is not the list\n",
        "names_set.remove(\"Maryum\")\n",
        "print(names_set)\n",
        "\n",
        "\n",
        "# REMOVE METHOD BY INTEGER\n",
        "numbers_set={1,2,3,4,5}\n",
        "numbers_set.remove(2)\n",
        "print(numbers_set)"
      ],
      "metadata": {
        "colab": {
          "base_uri": "https://localhost:8080/"
        },
        "id": "4cVh7a29LSpL",
        "outputId": "83e11786-9fab-47b4-eebe-3de608a516fd"
      },
      "execution_count": 30,
      "outputs": [
        {
          "output_type": "stream",
          "name": "stdout",
          "text": [
            "{1, 2, 4, 5}\n"
          ]
        }
      ]
    },
    {
      "cell_type": "markdown",
      "source": [
        "# Discard Method :\n",
        "The discard() method in Python's set is used to remove a specific element from the set. If the element is not found, it does not raise an error, unlike remove()\n",
        "Since \"Maryum\" is not in the set, the discard() method doesn't raise an error, and the set remains unchanged. This is the key difference from the remove() method, which would raise a KeyError if the element is not found"
      ],
      "metadata": {
        "id": "DtF0T5GKL6kD"
      }
    },
    {
      "cell_type": "code",
      "source": [
        "# DISCARD METHOD BY STRING\n",
        "\n",
        "names_set ={\"Aisha\",\"Hafsa\",\"Eman\",\"Eman\"}\n",
        "names_set.discard(\"Aisha\")  # Aisha\n",
        "print(names_set)\n",
        "\n",
        "# DISCARD METHOD BY INTEGER\n",
        "numbers_set={1,2,3,4,5}\n",
        "numbers_set.discard(3) # 3 is discard\n",
        "print(numbers_set)"
      ],
      "metadata": {
        "colab": {
          "base_uri": "https://localhost:8080/"
        },
        "id": "xXtq5aJxL3dc",
        "outputId": "1a4d4c30-859c-4697-c2db-4b70ad679248"
      },
      "execution_count": 25,
      "outputs": [
        {
          "output_type": "stream",
          "name": "stdout",
          "text": [
            "{'Eman', 'Hafsa'}\n",
            "{1, 2, 4, 5}\n"
          ]
        }
      ]
    },
    {
      "cell_type": "markdown",
      "source": [
        "# Pop Method :\n",
        "The pop() method in Python's set removes and returns an arbitrary element from the set. Since sets are unordered, you can't predict which element will be removed."
      ],
      "metadata": {
        "id": "JRGrxLXXNoOI"
      }
    },
    {
      "cell_type": "code",
      "source": [
        "# POP METHOD BY STRING\n",
        "names_set={\"Aisha\",\"Hafsa\",\"Eman\",\"Eman\"}\n",
        "names_set.pop()\n",
        "print(names_set)\n",
        "\n",
        "#POP METHOD BY INTEGER\n",
        "numbers_set={1,2,3,4,5}\n",
        "numbers_set.pop()\n",
        "print(numbers_set)\n"
      ],
      "metadata": {
        "colab": {
          "base_uri": "https://localhost:8080/"
        },
        "id": "q16q2xLiMZBK",
        "outputId": "114944b4-6d34-4db6-a7a6-7f30da7568c4"
      },
      "execution_count": 10,
      "outputs": [
        {
          "output_type": "stream",
          "name": "stdout",
          "text": [
            "{'Hafsa', 'Aisha'}\n",
            "{2, 3, 4, 5}\n"
          ]
        }
      ]
    },
    {
      "cell_type": "markdown",
      "source": [
        "# Union Method :\n",
        "The union() method in Python's set returns a new set that contains all elements from both sets, without duplicates."
      ],
      "metadata": {
        "id": "UAWGoDn1OB0C"
      }
    },
    {
      "cell_type": "code",
      "source": [
        "# UNION METHOD BY STRRING\n",
        "names_set1 = {'Aisha', 'Eman', 'Sana'}\n",
        "names_set2={\"Ali\",\"Umair\",\"Bilal\",\"Sana\"}\n",
        "names_set1.union(names_set2)\n",
        "print(names_set1)\n",
        "\n",
        "# UNION METHOD BY INTEGER\n",
        "nums1={1,2,3,4,}\n",
        "nums2={3,6,7,1}\n",
        "result=nums1.union(nums2)\n",
        "print(result)"
      ],
      "metadata": {
        "colab": {
          "base_uri": "https://localhost:8080/"
        },
        "id": "HTX3m3X6N0Ei",
        "outputId": "2a5da4cd-5ad3-4df7-8e0f-5381a540e7c5"
      },
      "execution_count": 11,
      "outputs": [
        {
          "output_type": "stream",
          "name": "stdout",
          "text": [
            "{'Eman', 'Sana', 'Aisha'}\n",
            "{1, 2, 3, 4, 6, 7}\n"
          ]
        }
      ]
    },
    {
      "cell_type": "markdown",
      "source": [
        "# Intersection Method:\n",
        "The intersection() method in Python's set returns a new set containing only the elements that are present in both sets."
      ],
      "metadata": {
        "id": "ze30AhopmY2K"
      }
    },
    {
      "cell_type": "code",
      "source": [
        "# INTERSECTION METHOD BY STRING\n",
        "names_set1 = {'Aisha', 'Eman', 'Sana'}\n",
        "names_set2={\"Ali\",\"Umair\"}\n",
        "names_set1.intersection(names_set2)\n",
        "print(names_set1)\n",
        "\n",
        "#INTERSECTION METHOD BY INTEGER\n",
        "a= {1,2,3}\n",
        "b={3,4,5}\n",
        "c=a.intersection(b)\n",
        "print(c)\n"
      ],
      "metadata": {
        "id": "yD19BgVSO5k8",
        "outputId": "a13b1572-f85f-4aaa-c7cf-12cfcd8542c4",
        "colab": {
          "base_uri": "https://localhost:8080/"
        }
      },
      "execution_count": 12,
      "outputs": [
        {
          "output_type": "stream",
          "name": "stdout",
          "text": [
            "{'Eman', 'Sana', 'Aisha'}\n",
            "{3}\n"
          ]
        }
      ]
    },
    {
      "cell_type": "markdown",
      "source": [
        "** ASSAIGNMENT NO.2 OF 10TH CLASS **\n",
        "\n",
        " ** REMAINING METHODS OF SETS **"
      ],
      "metadata": {
        "id": "6HFgI3vXUga6"
      }
    },
    {
      "cell_type": "markdown",
      "source": [
        "# Clear Method :\n",
        "The clear() method in Python's set removes all elements from the set, leaving it empty"
      ],
      "metadata": {
        "id": "honwnHQIm6Sk"
      }
    },
    {
      "cell_type": "code",
      "source": [
        "# CLEAR METHOD BY STRING\n",
        "names_set1 = {'Aisha', 'Eman', 'Sana'}\n",
        "names_set.clear()\n",
        "print(names_set)\n",
        "\n",
        "# CLEAR METHOD BY INTEGER\n",
        "s={1,2,3,4}\n",
        "s.clear()\n",
        "print(s)"
      ],
      "metadata": {
        "id": "auJlxgPqaRCN",
        "outputId": "350d95cc-b01c-49c3-d28d-ac4e8d73f6cd",
        "colab": {
          "base_uri": "https://localhost:8080/"
        }
      },
      "execution_count": 14,
      "outputs": [
        {
          "output_type": "stream",
          "name": "stdout",
          "text": [
            "set()\n",
            "set()\n"
          ]
        }
      ]
    },
    {
      "cell_type": "markdown",
      "source": [
        "# Copy Method :\n",
        "The copy() method in Python's set creates a shallow copy of the set, meaning it creates a new set with the same elements."
      ],
      "metadata": {
        "id": "k0jsnHc_na09"
      }
    },
    {
      "cell_type": "code",
      "source": [
        "# COPY METHOD BY STING\n",
        "names_set = {'Aisha', 'Eman', 'Sana'}\n",
        "names_set2={\"Ali\",\"Umair\"}\n",
        "names_set2.copy()\n",
        "print(names_set2)\n",
        "\n",
        "\n",
        "# COPY Method BY INTEGER\n",
        "a= {1,2,3,4}\n",
        "b=a.copy()\n",
        "print(b)\n"
      ],
      "metadata": {
        "id": "03GL3InvaaNW",
        "outputId": "eb98bd5b-ca88-4230-b1f1-dba1f5bee0ed",
        "colab": {
          "base_uri": "https://localhost:8080/"
        }
      },
      "execution_count": 15,
      "outputs": [
        {
          "output_type": "stream",
          "name": "stdout",
          "text": [
            "{'Ali', 'Umair'}\n",
            "{1, 2, 3, 4}\n"
          ]
        }
      ]
    },
    {
      "cell_type": "markdown",
      "source": [
        "# Difference Method :\n",
        "The difference() method in Python's set returns a new set containing elements that are in the first set but not in the second set"
      ],
      "metadata": {
        "id": "AZ30c9Gdny_v"
      }
    },
    {
      "cell_type": "code",
      "source": [
        "# Difference METHOD BY STRING\n",
        "names_set={'Aisha', 'Eman', 'Sana'}\n",
        "names_set2={\"Ali\",\"Umair\"}\n",
        "names_set2.difference(names_set)\n",
        "print(names_set2)\n",
        "\n",
        "#DIFFERENCE METHOD BY INTEGER\n",
        "\n",
        "a={1,2,3}\n",
        "b={3,4,5}\n",
        "c=a.difference(b)\n",
        "print(c)"
      ],
      "metadata": {
        "id": "A5Qo24bmaiAL",
        "outputId": "aad8e2ac-1676-4d97-f4a6-d4a8417871d5",
        "colab": {
          "base_uri": "https://localhost:8080/"
        }
      },
      "execution_count": 19,
      "outputs": [
        {
          "output_type": "stream",
          "name": "stdout",
          "text": [
            "{'Ali', 'Umair'}\n",
            "{1, 2}\n"
          ]
        }
      ]
    },
    {
      "cell_type": "markdown",
      "source": [
        "# Issubset :\n",
        "The issubset() method in Python's set checks if all elements of the first set are contained in the second set, returning True or False."
      ],
      "metadata": {
        "id": "xPDn_tm7oh9W"
      }
    },
    {
      "cell_type": "code",
      "source": [
        "# SET ISSUBSET\n",
        "a={1,2,3}\n",
        "b=s={1,2,3,4,5}\n",
        "c={1,2,4}\n",
        "print(a.issubset(b))"
      ],
      "metadata": {
        "id": "EWqnz_fEcWrI",
        "outputId": "a4bb8bc2-7d1f-41eb-87e5-97d306777e00",
        "colab": {
          "base_uri": "https://localhost:8080/"
        }
      },
      "execution_count": 20,
      "outputs": [
        {
          "output_type": "stream",
          "name": "stdout",
          "text": [
            "True\n"
          ]
        }
      ]
    },
    {
      "cell_type": "markdown",
      "source": [
        "# Isuperset :\n",
        "The issuperset() method in Python's set checks if the first set contains all elements of the second set, returning True or False"
      ],
      "metadata": {
        "id": "K0ZuQcdfo8RX"
      }
    },
    {
      "cell_type": "code",
      "source": [
        "#SET ISUPERSET\n",
        "a={1,2,3}\n",
        "b=s={1,2,3,4,5}\n",
        "c={1,2,4}\n",
        "print(a.issuperset(a))"
      ],
      "metadata": {
        "id": "7xJe4SdKcdmh",
        "outputId": "fbb0b844-7bc9-4a44-d2de-2d7049864843",
        "colab": {
          "base_uri": "https://localhost:8080/"
        }
      },
      "execution_count": 21,
      "outputs": [
        {
          "output_type": "stream",
          "name": "stdout",
          "text": [
            "True\n"
          ]
        }
      ]
    },
    {
      "cell_type": "code",
      "source": [
        "# SET UPDATE\n",
        "a={1,2,3}\n",
        "b={\"Ali\",\"Naina\",\"Aisha\"}\n",
        "c={8,9,5}\n",
        "a.update(b)\n",
        "print(a)\n"
      ],
      "metadata": {
        "id": "M23TbHQicja1",
        "outputId": "4e8f8551-1e04-4d52-f98b-023db089e0b0",
        "colab": {
          "base_uri": "https://localhost:8080/"
        }
      },
      "execution_count": 22,
      "outputs": [
        {
          "output_type": "stream",
          "name": "stdout",
          "text": [
            "{'Naina', 1, 2, 3, 'Aisha', 'Ali'}\n"
          ]
        }
      ]
    },
    {
      "cell_type": "code",
      "source": [
        "# SET INDEX METHOD\n",
        "# Convert set to a list to access by index\n",
        "names_list = list(names_set)\n",
        "print(\"names_list:\", names_list[1])"
      ],
      "metadata": {
        "id": "QlBAlabhB5x5"
      },
      "execution_count": null,
      "outputs": []
    },
    {
      "cell_type": "markdown",
      "source": [
        "# Isdisjoint :\n",
        "The isdisjoint() method in Python's set checks if two sets have no elements in common, returning True or False."
      ],
      "metadata": {
        "id": "vhWg4MUUp4hn"
      }
    },
    {
      "cell_type": "code",
      "source": [
        "set1 = {1, 2, 3}\n",
        "set2 = {4, 5, 6}\n",
        "result = set1.isdisjoint(set2)  # Returns True\n",
        "print(result)"
      ],
      "metadata": {
        "id": "h42eM95ZqDoo",
        "outputId": "673413b2-3840-4ccc-ad5b-f11a14480d26",
        "colab": {
          "base_uri": "https://localhost:8080/"
        }
      },
      "execution_count": 31,
      "outputs": [
        {
          "output_type": "stream",
          "name": "stdout",
          "text": [
            "True\n"
          ]
        }
      ]
    },
    {
      "cell_type": "markdown",
      "source": [
        "# Symmetric_difference :\n",
        "The symmetric_difference() method in Python's set returns a new set with elements that are in either of the sets, but not in both."
      ],
      "metadata": {
        "id": "zv6M7iJ3qizh"
      }
    },
    {
      "cell_type": "code",
      "source": [
        "set1 = {1, 2, 3}\n",
        "set2 = {3, 4, 5}\n",
        "result = set1.symmetric_difference(set2)  # Returns {1, 2, 4, 5}\n",
        "print(result)"
      ],
      "metadata": {
        "id": "kMRFv4ncqvg6",
        "outputId": "4f1216cd-6fc4-4305-f568-0127e966aeeb",
        "colab": {
          "base_uri": "https://localhost:8080/"
        }
      },
      "execution_count": 32,
      "outputs": [
        {
          "output_type": "stream",
          "name": "stdout",
          "text": [
            "{1, 2, 4, 5}\n"
          ]
        }
      ]
    },
    {
      "cell_type": "markdown",
      "source": [
        "# Syemmetric difference Update :\n",
        "The symmetric_difference_update() method in Python's set updates the set by removing elements found in both sets and adding elements that are unique to each set"
      ],
      "metadata": {
        "id": "SkM7sWO-q0gV"
      }
    },
    {
      "cell_type": "code",
      "source": [
        "set1 = {1, 2, 3}\n",
        "set2 = {3, 4, 5}\n",
        "set1.symmetric_difference_update(set2)  # Updates set1 to {1, 2, 4, 5}\n",
        "print(set1)"
      ],
      "metadata": {
        "id": "-1J6m0merOU3",
        "outputId": "7d59f9fd-e2f5-4970-83cf-2c3d47031efb",
        "colab": {
          "base_uri": "https://localhost:8080/"
        }
      },
      "execution_count": 33,
      "outputs": [
        {
          "output_type": "stream",
          "name": "stdout",
          "text": [
            "{1, 2, 4, 5}\n"
          ]
        }
      ]
    }
  ],
  "metadata": {
    "colab": {
      "provenance": []
    },
    "kernelspec": {
      "display_name": "Python 3",
      "name": "python3"
    },
    "language_info": {
      "name": "python"
    }
  },
  "nbformat": 4,
  "nbformat_minor": 0
}