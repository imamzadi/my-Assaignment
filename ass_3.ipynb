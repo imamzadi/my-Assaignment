{
  "nbformat": 4,
  "nbformat_minor": 0,
  "metadata": {
    "colab": {
      "provenance": []
    },
    "kernelspec": {
      "name": "python3",
      "display_name": "Python 3"
    },
    "language_info": {
      "name": "python"
    }
  },
  "cells": [
    {
      "cell_type": "markdown",
      "source": [
        "# assaignment of calculculator\n",
        "#create a simple calculator with the dynamic function\n"
      ],
      "metadata": {
        "id": "W59xuET7Qwd6"
      }
    },
    {
      "cell_type": "code",
      "source": [
        "# Method no.1\n",
        "\n",
        "num1 = int(input(\"enter the first value: \"))\n",
        "num2 = int(input(\"enter the secon value: \"))\n",
        "oprator = input(\"enter oprator(+ - * / // %)): \").strip()\n",
        "def calculator(num1,num2,oprator):\n",
        "       # match oprator:\n",
        "      if \"+\":\n",
        "          return num1 + num2\n",
        "      elif \"-\":\n",
        "           return num1 - num2\n",
        "\n",
        "      elif \"*\":\n",
        "           return num1 * num2\n",
        "      elif \"/\":\n",
        "           return num1 / num2\n",
        "      elif \"//\":\n",
        "           return num1 // num2\n",
        "      elif \"%\":\n",
        "           return num1 % num2\n",
        "      else :\n",
        "           return \"invalid oprators\"\n",
        "result = calculator(num1,num2,oprator)\n",
        "print(result)\n",
        "\n"
      ],
      "metadata": {
        "colab": {
          "base_uri": "https://localhost:8080/"
        },
        "id": "mdlBVqrRQy7q",
        "outputId": "3fa33ac7-b9ff-4e7d-df4b-5b523de7d56c"
      },
      "execution_count": 1,
      "outputs": [
        {
          "output_type": "stream",
          "name": "stdout",
          "text": [
            "enter the first value: 1\n",
            "enter the secon value: 7\n",
            "enter oprator(+ - * / // %)): +\n",
            "8\n"
          ]
        }
      ]
    },
    {
      "cell_type": "code",
      "source": [
        "# Method no.2\n",
        "\n",
        "def calculator(x,y):\n",
        "      print(\"calculator Menu:\")\n",
        "      print(\"1. Addition\\n2. Subsrtraction\\n3.Multipication\\n4.Division\")\n",
        "      choice=int(input(\"Enter your choice:\"))\n",
        "      if choice==1:\n",
        "            return x+y\n",
        "      elif choice==2:\n",
        "            return x-y\n",
        "      elif choice==3:\n",
        "            return x*y\n",
        "      elif choice==4:\n",
        "            if y==0:\n",
        "                  print(\"denominator cant be zero, Try Again\")\n",
        "            else:\n",
        "                  return x/y\n",
        "num1=int(input(\"Enter your first number:\"))\n",
        "num2=int (input(\"Enter your second number:\"))\n",
        "print(\"your result is:\",calculator(num1,num2))\n",
        "\n",
        ""
      ],
      "metadata": {
        "colab": {
          "base_uri": "https://localhost:8080/"
        },
        "id": "uhEnpxPBRE0M",
        "outputId": "b002f35c-2a33-43ef-e911-2cca62ccaab9"
      },
      "execution_count": 2,
      "outputs": [
        {
          "output_type": "stream",
          "name": "stdout",
          "text": [
            "Enter your first number:6\n",
            "Enter your second number:9\n",
            "calculator Menu:\n",
            "1. Addition\n",
            "2. Subsrtraction\n",
            "3.Multipication\n",
            "4.Division\n",
            "Enter your choice:2\n",
            "your result is: -3\n"
          ]
        }
      ]
    },
    {
      "cell_type": "code",
      "source": [
        "# assaignment no.2\n",
        "# version1 dyanamic function\n",
        "\n",
        "# in addition\n",
        "i=10\n",
        "j=10\n",
        "def sum(i:int,j:int):\n",
        "    print(i+j)\n",
        "sum(40,33)\n",
        "\n",
        "# in substraction\n",
        "i=10\n",
        "j=10\n",
        "def sub(i:int,j:int):\n",
        "    print(i-j)\n",
        "sub(40,33)\n",
        "\n",
        "# in multipication\n",
        "i=10\n",
        "j=10\n",
        "def mul(i:int,j:int):\n",
        "    print(i*j)\n",
        "mul(40,33)\n",
        "\n",
        "# in division\n",
        "i=10\n",
        "j=10\n",
        "def divide(i:int,j:int):\n",
        "    print(i/j)\n",
        "divide(40,33)\n",
        "\n",
        "# in float\n",
        "i=10\n",
        "j=10\n",
        "def float(i:int,j:int):\n",
        "    print(i//j)\n",
        "float(40,33)\n",
        "\n",
        "# in exponant\n",
        "\n",
        "i=10\n",
        "j=10\n",
        "def expo(i:int,j:int):\n",
        "    print(i**j)\n",
        "expo(40,33)"
      ],
      "metadata": {
        "colab": {
          "base_uri": "https://localhost:8080/"
        },
        "id": "IS--gPXQRsfy",
        "outputId": "7789619c-71c9-40f2-93d7-ef404f85684c"
      },
      "execution_count": 3,
      "outputs": [
        {
          "output_type": "stream",
          "name": "stdout",
          "text": [
            "73\n",
            "7\n",
            "1320\n",
            "1.2121212121212122\n",
            "1\n",
            "73786976294838206464000000000000000000000000000000000\n"
          ]
        }
      ]
    },
    {
      "cell_type": "code",
      "source": [
        "# version2 dyanamic function with return value\n",
        "\n",
        "# addition\n",
        "x=10\n",
        "y=30\n",
        "def add(x:int,y:int):\n",
        "    return x+y\n",
        "output=add(50,50)\n",
        "print(output)\n",
        "final_output = output+20\n",
        "print(final_output)\n",
        "\n",
        "# substraction\n",
        "x=10\n",
        "y=30\n",
        "def sub(x:int,y:int):\n",
        "    return x-y\n",
        "output=sub(50,50)\n",
        "print(output)\n",
        "final_output = output-20\n",
        "print(final_output)\n",
        "\n",
        "# multipication\n",
        "x=10\n",
        "y=30\n",
        "def mul(x:int,y:int):\n",
        "    return x*y\n",
        "output=mul(50,50)\n",
        "print(output)\n",
        "final_output = output*20\n",
        "print(final_output)\n",
        "\n",
        "# exponant\n",
        "x=10\n",
        "y=30\n",
        "def expo(x:int,y:int):\n",
        "      return x**y\n",
        "output=expo(50,50)\n",
        "print(output)\n",
        "final_output = output**20\n",
        "print(final_output)\n",
        "\n",
        "# division\n",
        "\n",
        "x=10\n",
        "y=30\n",
        "def div(x:int,y:int):\n",
        "    return x/y\n",
        "output=div(50,50)\n",
        "print(output)\n",
        "final_output = output/20\n",
        "print(final_output)\n",
        "\n",
        "# in float\n",
        "x=10\n",
        "y=30\n",
        "def float(x:int,y:int):\n",
        "    return x//y\n",
        "output=float(50,50)\n",
        "print(output)\n",
        "final_output = output//20\n",
        "print(final_output)\n",
        "\n"
      ],
      "metadata": {
        "colab": {
          "base_uri": "https://localhost:8080/"
        },
        "id": "Tvqw3_2vR7me",
        "outputId": "7443af14-8982-4d59-f665-f7d655af7be6"
      },
      "execution_count": 4,
      "outputs": [
        {
          "output_type": "stream",
          "name": "stdout",
          "text": [
            "100\n",
            "120\n",
            "0\n",
            "-20\n",
            "2500\n",
            "50000\n",
            "8881784197001252323389053344726562500000000000000000000000000000000000000000000000000\n",
            "9332636185032188789900895447238171696170914463717080246217143397959669109757756344544403270978811023595949899303242426242154875213540323948415208172039307562344106661383251502739950759859018315111004907962651131182405125147959337908051782711254151038106983788544264811194698142286609592220176629104427984561694488871474665280063283684526474292618298621652027931952894936071178506636687410654398055307181363205998448260419541012132296298695021945146099042146086683612447929520348268646176579269160474200659363890417378958221183650780455566284442739253875171278547967815563464037148776817668998553920692654394240087119736747017498626266907472967625358039293762338339810469278745586052536964416503906250000000000000000000000000000000000000000000000000000000000000000000000000000000000000000000000000000000000000000000000000000000000000000000000000000000000000000000000000000000000000000000000000000000000000000000000000000000000000000000000000000000000000000000000000000000000000000000000000000000000000000000000000000000000000000000000000000000000000000000000000000000000000000000000000000000000000000000000000000000000000000000000000000000000000000000000000000000000000000000000000000000000000000000000000000000000000000000000000000000000000000000000000000000000000000000000000000000000000000000000000000000000000000000000000000000000000000000000000000000000000000000000000000000000000000000000000000000000000000000000000000000000000000000000000000000000000000000000000000000000000000000000000000000000000000000000000000000000000000000000000000000000000000000000000000000000000000000000000000000000000000000000000000000000000000000000000000000000000000000000000000000000000000000000000000000000000000\n",
            "1.0\n",
            "0.05\n",
            "1\n",
            "0\n"
          ]
        }
      ]
    },
    {
      "cell_type": "markdown",
      "source": [
        "# assaignment no.3\n",
        "# default function ko read ker k ana tha ghr sey\n",
        "# what is a default function?"
      ],
      "metadata": {
        "id": "G5Ji8w4BSFkG"
      }
    },
    {
      "cell_type": "code",
      "source": [
        "# default function\n",
        "\n",
        "def addition(a,b=4):\n",
        "      print(\"add the number\")\n",
        "      return a+b\n",
        "sum=addition(2)\n",
        "print(sum)\n",
        "\n",
        "def name(country,city=\"Karachi\"):\n",
        "    print(\"i love\",country,city)\n",
        "name(\"Pakistan\")\n",
        "name(\"city\")\n",
        "\n",
        "def name(country,  city = \"Karachi\"):\n",
        "    print(\"i love pakistan\",city)\n",
        "\n",
        "name(\"pakistan\")\n",
        "name(\"brazil\")\n",
        "\n",
        "def describe_pet(pet_name, animal_type=\"dog\"):\n",
        "    print(f\"I have a {animal_type} named {pet_name}.\")\n",
        "\n",
        "# Calling with both arguments\n",
        "describe_pet(\"Rex\", \"dog\")  # Output: I have a dog named Rex.\n",
        "\n",
        "# Calling with only the pet_name argument\n",
        "describe_pet(\"Tommy\")  # Output: I have a dog named tommy. (default is 'dog')\n",
        "\n",
        "\n",
        "\n",
        "\n"
      ],
      "metadata": {
        "colab": {
          "base_uri": "https://localhost:8080/"
        },
        "id": "bWQLvhNoTVJm",
        "outputId": "da403af2-4ac7-4a06-9ba7-d5cab0791b1b"
      },
      "execution_count": 6,
      "outputs": [
        {
          "output_type": "stream",
          "name": "stdout",
          "text": [
            "add the number\n",
            "6\n",
            "i love Pakistan Karachi\n",
            "i love city Karachi\n",
            "i love pakistan Karachi\n",
            "i love pakistan Karachi\n",
            "I have a dog named Rex.\n",
            "I have a dog named Tommy.\n"
          ]
        }
      ]
    }
  ]
}