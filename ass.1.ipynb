{
  "nbformat": 4,
  "nbformat_minor": 0,
  "metadata": {
    "colab": {
      "provenance": []
    },
    "kernelspec": {
      "name": "python3",
      "display_name": "Python 3"
    },
    "language_info": {
      "name": "python"
    }
  },
  "cells": [
    {
      "cell_type": "markdown",
      "source": [
        "# My first assaignment:"
      ],
      "metadata": {
        "id": "dpmOM8sjRqiC"
      }
    },
    {
      "cell_type": "markdown",
      "source": [
        "# Make from assaignment with topic comprassion oprators:\n",
        "# agr light na ho tou ups on ho jaye\n",
        "# or agr light ho tou ups bund ho jaye"
      ],
      "metadata": {
        "id": "LIYuppn1TF4H"
      }
    },
    {
      "cell_type": "code",
      "source": [
        "# Variables and String Methods:\n",
        "\n",
        "num:str=\"k_elecrtic\"\n",
        "\"k_electric\"==\"no k_electric\"\n",
        "print(\"ups on ho jaye\")\n",
        "num:str=\"ups\"\n",
        "\"ups\"==\"no ups\"\n",
        "print(\"light on ho jaye\")\n"
      ],
      "metadata": {
        "colab": {
          "base_uri": "https://localhost:8080/"
        },
        "id": "isshdWIGXb5O",
        "outputId": "3e5ade4e-9a43-4081-f1f5-f0f32e183873"
      },
      "execution_count": 3,
      "outputs": [
        {
          "output_type": "stream",
          "name": "stdout",
          "text": [
            "ups on ho jaye\n",
            "light on ho jaye\n"
          ]
        }
      ]
    },
    {
      "cell_type": "code",
      "source": [
        "# from !=\n",
        "\n",
        "num:str=\"k_electric\"\n",
        "\"k_electric\"!=\"light available\"\n",
        "print(\"ups on ho jaye\")\n",
        "num:str=\"ups\"\n",
        "\"ups\"!=\"light\"\n",
        "print(\"ups off ho jaye\")"
      ],
      "metadata": {
        "colab": {
          "base_uri": "https://localhost:8080/"
        },
        "id": "OIgjWqTYXmya",
        "outputId": "96b46727-fab0-4e8e-cf76-563df404bc93"
      },
      "execution_count": 4,
      "outputs": [
        {
          "output_type": "stream",
          "name": "stdout",
          "text": [
            "ups on ho jaye\n",
            "ups off ho jaye\n"
          ]
        }
      ]
    },
    {
      "cell_type": "code",
      "source": [
        "# from ==\n",
        "\n",
        "num:str=\"k_electric\"\n",
        "\"k_electric\"==\"available\"\n",
        "print(\"ups off\")\n",
        "num:str=\"ups\"\n",
        "\"ups\"==\" no ups\"\n",
        "print(\"light on\")\n",
        "\n",
        "num:str=\"k_elecrtic\"\n",
        "\"k_electric\"==\"no k_electric\"\n",
        "print(\"ups on ho jaye\")\n",
        "num:str=\"ups\"\n",
        "\"ups\"==\"no ups\"\n",
        "print(\"light on ho jaye\")"
      ],
      "metadata": {
        "colab": {
          "base_uri": "https://localhost:8080/"
        },
        "id": "zJYk813uXv2U",
        "outputId": "755e364f-db8e-4aa1-8204-42bbd55f7622"
      },
      "execution_count": 5,
      "outputs": [
        {
          "output_type": "stream",
          "name": "stdout",
          "text": [
            "ups off\n",
            "light on\n",
            "ups on ho jaye\n",
            "light on ho jaye\n"
          ]
        }
      ]
    },
    {
      "cell_type": "markdown",
      "source": [
        "# With Logical oprators"
      ],
      "metadata": {
        "id": "bGywiQy2YCfA"
      }
    },
    {
      "cell_type": "code",
      "source": [
        "# And oprators (True/False)\n",
        "\n",
        "k_electric:str=\"on\"\n",
        "ups:str=\"off\"\n",
        "\n",
        "print(k_electric == \"on\" and ups == \"off\")\n",
        "print(k_electric == \"off\" and ups == \"on\")\n",
        "print(k_electric == \"off\" and ups == \"off\")\n",
        "print(k_electric == \"on\" and ups == \"on\")\n",
        "\n",
        "# or oprators (True/False)\n",
        "\n",
        "print(k_electric == \"on\" or ups == \"off\")\n",
        "print(k_electric == \"off\" or ups == \"on\")\n",
        "print(k_electric == \"off\" or ups == \"off\")\n",
        "print(k_electric == \"on\" or ups == \"on\")\n"
      ],
      "metadata": {
        "colab": {
          "base_uri": "https://localhost:8080/"
        },
        "id": "_twEHkjMYIG0",
        "outputId": "0b3d158e-2210-4129-fdea-e02384fd9eed"
      },
      "execution_count": 6,
      "outputs": [
        {
          "output_type": "stream",
          "name": "stdout",
          "text": [
            "True\n",
            "False\n",
            "False\n",
            "False\n",
            "True\n",
            "False\n",
            "True\n",
            "True\n"
          ]
        }
      ]
    }
  ]
}